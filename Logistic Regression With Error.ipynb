{
 "cells": [
  {
   "cell_type": "markdown",
   "metadata": {},
   "source": [
    "## Minimal LogisticRegressionWithError class\n",
    "J. Landy, EFvaDB, 2017\n",
    "\n",
    "Two cells:  1)  Class code, 2) Application to Iris data set.  Requires sklearn, matplotlib, and numpy.\n",
    "\n",
    "Accompanying post here:  www.efavdb.com/logistic-regression\n"
   ]
  },
  {
   "cell_type": "code",
   "execution_count": 1,
   "metadata": {},
   "outputs": [],
   "source": [
    "from sklearn.linear_model import LogisticRegression\n",
    "import numpy as np\n",
    "\n",
    "\n",
    "class LogisticRegressionWithError(LogisticRegression):\n",
    "    \"\"\"\n",
    "    Minimal wrapper of SKLearn's LogisticRegression class\n",
    "    returning confidence intervals within the predict_proba\n",
    "    method.  Works with binary class system only.\n",
    "    \"\"\"\n",
    "    def __init__(self, **kwargs):\n",
    "        \"\"\"\n",
    "        parameters\n",
    "        ----------\n",
    "        See sklearn documentation for full list.  Two of note\n",
    "        listed here.\n",
    "        \n",
    "        fit_intercept : bool\n",
    "            Default is True.  Setting to False will create\n",
    "            fit with no intercept added.\n",
    "            \n",
    "        C : numeric\n",
    "            The inverse L2 regularization strength.  Default\n",
    "            is 1.0.  Increasing C decreases strength of the\n",
    "            regularization.\n",
    "        \"\"\"\n",
    "        super(self.__class__, self).__init__(**kwargs)\n",
    "      \n",
    "    def _logistic_transform(self, x):\n",
    "        \"\"\"\n",
    "        Returns Logistic Transform of passed logit.\n",
    "        See (1) of post.\n",
    "        \"\"\"\n",
    "        return 1.0 / (1 + np.exp(-x))\n",
    "    \n",
    "    def _check_binary(self, y):\n",
    "        \"\"\"\n",
    "        Ensure working with binary data.\n",
    "        \"\"\"\n",
    "        if len(set(y)) != 2:\n",
    "            raise ValueError('Class only supports binary data.')\n",
    "    \n",
    "    def _get_cov(self, X):\n",
    "        \"\"\"\n",
    "        Evaluate the parameter covariance matrix.\n",
    "        See (1), (6), and (8) of post.  Here, we take into account\n",
    "        effect of L2 regularization of covariance matrix.\n",
    "        \"\"\"\n",
    "        X = X.copy()\n",
    "        weights = [p[0] * p[1] for p in \n",
    "                   super(self.__class__, self).predict_proba(X)]\n",
    "        if self.fit_intercept:\n",
    "            X = np.hstack((X, np.ones(len(X)).reshape([-1, 1])))\n",
    "        second_partials = [\n",
    "            np.outer(x, x) * weights[i] for i, x in enumerate(X)]\n",
    "        inv_cov = np.sum(second_partials, axis=0) \\\n",
    "            + np.identity(X.shape[1]) / self.C\n",
    "        self.cov = np.linalg.inv(inv_cov)\n",
    "   \n",
    "    def _get_interval(self, x, z):\n",
    "        \"\"\"\n",
    "        Return interval for passed test point.\n",
    "        See (1), (11), and (12) of post.\n",
    "        \"\"\"\n",
    "        x = np.array(x).copy()\n",
    "        if self.fit_intercept:\n",
    "            x = np.concatenate((x, np.array([1])))\n",
    "        # get point estimate for logit, std.\n",
    "        coefficients = np.hstack((self.coef_[0], self.intercept_))\n",
    "        logit = np.dot(coefficients, x)\n",
    "        logit_std = np.sqrt(np.dot(x, np.dot(self.cov, x)))\n",
    "        # evaluate interval for class one probability, return\n",
    "        min_bound = self._logistic_transform(logit - z * logit_std)\n",
    "        max_bound = self._logistic_transform(logit + z * logit_std)\n",
    "        return min_bound, max_bound\n",
    "\n",
    "    def fit(self, X, y):\n",
    "        \"\"\"\n",
    "        Fit model to data.\n",
    "        \n",
    "        parameters\n",
    "        ----------\n",
    "        X : np.array\n",
    "            shape : (n_examples, n_features)\n",
    "            Feature array for training set\n",
    "        \n",
    "        y : np.array\n",
    "            shape : (n_examples)\n",
    "            Label array for training set.\n",
    "        \"\"\"\n",
    "        super(self.__class__, self).fit(X, y)\n",
    "        self._check_binary(y)\n",
    "        self._get_cov(X)\n",
    "            \n",
    "    def predict_proba(self, X, z=2):\n",
    "        \"\"\"\n",
    "        Return interval for class one probability point\n",
    "        estimates and intervals for passed test points.\n",
    "        Note:  Formulae applied assume asymptotic limit.\n",
    "        \n",
    "        parameters\n",
    "        ----------\n",
    "        X : np.array\n",
    "            shape : (n_example, n_features)\n",
    "            Test point array\n",
    "        \n",
    "        z : numeric type, should be non-negative\n",
    "            z-score for interval to be returned.  Eg,\n",
    "            if z=2, you get a ~95% confidence interval.\n",
    "        \"\"\"\n",
    "        point_estimate = super(\n",
    "            self.__class__, self).predict_proba(X).ravel()[1]\n",
    "        intervals = np.array(\n",
    "            [self._get_interval(x, z) for x in X]).ravel()\n",
    "        return point_estimate, intervals\n",
    "        "
   ]
  },
  {
   "cell_type": "code",
   "execution_count": 2,
   "metadata": {},
   "outputs": [
    {
     "name": "stdout",
     "output_type": "stream",
     "text": [
      "Populating the interactive namespace from numpy and matplotlib\n"
     ]
    },
    {
     "data": {
      "text/plain": [
       "(0, 1)"
      ]
     },
     "execution_count": 2,
     "metadata": {},
     "output_type": "execute_result"
    },
    {
     "data": {
      "image/png": "[encoded data removed]",
      "text/plain": [
       "<matplotlib.figure.Figure at 0x104dedb10>"
      ]
     },
     "metadata": {},
     "output_type": "display_data"
    }
   ],
   "source": [
    "# Load Iris data set, take cut through parameter\n",
    "# space and plot point estimate / error bars.\n",
    "%pylab inline\n",
    "from sklearn import datasets\n",
    "import numpy as np\n",
    "iris = datasets.load_iris()\n",
    "\n",
    "X = iris.data\n",
    "y = np.array([(i==1)*1 for i in iris.target])\n",
    "\n",
    "model = LogisticRegressionWithError(C=10.0)\n",
    "model.fit(X, y)\n",
    "\n",
    "points = []\n",
    "intervals = []\n",
    "x_array = np.arange(2, 10, 0.25)\n",
    "for i in x_array:\n",
    "    x = [[i, 3, i, 2]]\n",
    "    p, i = model.predict_proba(x, z=2)\n",
    "    points.append(p)\n",
    "    intervals.append(i)\n",
    "    \n",
    "y_error_lower = [p - i[0] for p, i in zip(points, intervals)]\n",
    "y_error_upper = [i[1] - p for p, i in zip(points, intervals)]\n",
    "\n",
    "# Plot\n",
    "fig = plt.figure()  # create a figure object\n",
    "ax = fig.add_subplot(1, 1, 1)\n",
    "ax.errorbar(x_array, points, yerr=[y_error_lower, y_error_upper], fmt='--o', capsize=3,)\n",
    "ax.set_ylim([0,1])"
   ]
  },
  {
   "cell_type": "code",
   "execution_count": null,
   "metadata": {
    "collapsed": true
   },
   "outputs": [],
   "source": []
  }
 ],
 "metadata": {
  "kernelspec": {
   "display_name": "Python 2",
   "language": "python",
   "name": "python2"
  },
  "language_info": {
   "codemirror_mode": {
    "name": "ipython",
    "version": 2
   },
   "file_extension": ".py",
   "mimetype": "text/x-python",
   "name": "python",
   "nbconvert_exporter": "python",
   "pygments_lexer": "ipython2",
   "version": "2.7.10"
  }
 },
 "nbformat": 4,
 "nbformat_minor": 2
}
